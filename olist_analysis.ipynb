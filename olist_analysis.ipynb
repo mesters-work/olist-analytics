{
  "nbformat": 4,
  "nbformat_minor": 0,
  "metadata": {
    "colab": {
      "provenance": [],
      "authorship_tag": "ABX9TyPZkjzgakQ+aPYwnwJh+7+0",
      "include_colab_link": true
    },
    "kernelspec": {
      "name": "python3",
      "display_name": "Python 3"
    },
    "language_info": {
      "name": "python"
    }
  },
  "cells": [
    {
      "cell_type": "markdown",
      "metadata": {
        "id": "view-in-github",
        "colab_type": "text"
      },
      "source": [
        "<a href=\"https://colab.research.google.com/github/mesters-work/olist-analytics/blob/main/olist_analysis.ipynb\" target=\"_parent\"><img src=\"https://colab.research.google.com/assets/colab-badge.svg\" alt=\"Open In Colab\"/></a>"
      ]
    },
    {
      "cell_type": "code",
      "execution_count": 1,
      "metadata": {
        "id": "UnYjWj9nswNm"
      },
      "outputs": [],
      "source": [
        "import pandas as pd\n",
        "\n",
        "# Load raw Olist datasets\n",
        "orders = pd.read_csv(\"/content/olist_data/olist_orders_dataset.csv\")\n",
        "items = pd.read_csv(\"/content/olist_data/olist_order_items_dataset.csv\")\n",
        "customers = pd.read_csv(\"/content/olist_data/olist_customers_dataset.csv\")\n",
        "# Convert dates\n",
        "orders['purchase_date'] = pd.to_datetime(orders['order_purchase_timestamp'])\n",
        "orders['delivered_date'] = pd.to_datetime(orders['order_delivered_customer_date'])\n",
        "orders['estimated_date'] = pd.to_datetime(orders['order_estimated_delivery_date'])\n",
        "\n",
        "# Delivery duration\n",
        "orders['delivery_days'] = (orders['delivered_date'] - orders['purchase_date']).dt.days\n",
        "\n",
        "# Late flag\n",
        "orders['late_flag'] = orders['delivered_date'] > orders['estimated_date']\n",
        "\n",
        "# Order month for aggregation\n",
        "orders['order_month'] = orders['purchase_date'].dt.to_period('M').astype(str)\n",
        "\n",
        "# Export 1\n",
        "orders_clean = orders[['order_id','customer_id','purchase_date','delivered_date',\n",
        "                       'delivery_days','late_flag','order_month']]\n",
        "orders_clean.to_csv(\"/content/olist_orders_clean.csv\", index=False)\n",
        "\n",
        "# Find first purchase month for each customer\n",
        "orders['cohort_month'] = orders.groupby('customer_id')['purchase_date'].transform('min').dt.to_period('M')\n",
        "\n",
        "# Period index (months since cohort)\n",
        "orders['period_index'] = ((orders['purchase_date'].dt.to_period('M') - orders['cohort_month']).apply(lambda x: x.n))\n",
        "\n",
        "# Cohort size & active customers\n",
        "cohort_data = (orders.groupby(['cohort_month','period_index'])['customer_id']\n",
        "                      .nunique()\n",
        "                      .reset_index(name='active_customers'))\n",
        "\n",
        "# Compute retention %\n",
        "cohort_sizes = cohort_data[cohort_data['period_index']==0][['cohort_month','active_customers']].rename(columns={'active_customers':'cohort_size'})\n",
        "cohort_data = cohort_data.merge(cohort_sizes,on='cohort_month')\n",
        "cohort_data['retention_rate'] = cohort_data['active_customers'] / cohort_data['cohort_size']\n",
        "\n",
        "# Export 2\n",
        "cohort_data.to_csv(\"/content/customer_cohorts.csv\", index=False)\n",
        "\n",
        "# Join orders to customers to get states\n",
        "geo = orders.merge(customers[['customer_id','customer_state']], on='customer_id', how='left')\n",
        "\n",
        "# Group by state\n",
        "geo_summary = geo.groupby('customer_state').agg(\n",
        "    total_orders=('order_id','count'),\n",
        "    late_orders=('late_flag','sum')\n",
        ").reset_index()\n",
        "\n",
        "geo_summary['pct_late'] = geo_summary['late_orders'] / geo_summary['total_orders']\n",
        "\n",
        "# Export 3\n",
        "geo_summary.to_csv(\"/content/geo_deliveries.csv\", index=False)\n",
        "\n"
      ]
    }
  ]
}