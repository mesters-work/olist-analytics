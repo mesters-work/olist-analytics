{
  "nbformat": 4,
  "nbformat_minor": 0,
  "metadata": {
    "colab": {
      "provenance": [],
      "authorship_tag": "ABX9TyNz39ahkmue0ZOhSLCU7rjl",
      "include_colab_link": true
    },
    "kernelspec": {
      "name": "python3",
      "display_name": "Python 3"
    },
    "language_info": {
      "name": "python"
    }
  },
  "cells": [
    {
      "cell_type": "markdown",
      "metadata": {
        "id": "view-in-github",
        "colab_type": "text"
      },
      "source": [
        "<a href=\"https://colab.research.google.com/github/mesters-work/olist-analytics/blob/main/olist_analysis.ipynb\" target=\"_parent\"><img src=\"https://colab.research.google.com/assets/colab-badge.svg\" alt=\"Open In Colab\"/></a>"
      ]
    },
    {
      "cell_type": "code",
      "execution_count": 6,
      "metadata": {
        "colab": {
          "base_uri": "https://localhost:8080/"
        },
        "id": "UnYjWj9nswNm",
        "outputId": "60b0e75c-25e0-4dce-a872-494691aacea3"
      },
      "outputs": [
        {
          "output_type": "stream",
          "name": "stdout",
          "text": [
            "Exports written: \n",
            "- /content/olist_orders_clean.csv \n",
            "- /content/customer_cohorts.csv \n",
            "- /content/geo_deliveries.csv \n",
            "- /content/category_gmv.csv \n",
            "- /content/seller_gmv.csv\n"
          ]
        }
      ],
      "source": [
        "import pandas as pd\n",
        "\n",
        "# =========================\n",
        "# OLIST ANALYSIS PIPELINE\n",
        "# =========================\n",
        "# Goal: Prepare clean, business-ready datasets for Tableau dashboards\n",
        "# Focus: delivery performance, customer retention, and revenue (GMV)\n",
        "\n",
        "# Load core datasets\n",
        "orders    = pd.read_csv(\"/content/olist_data/olist_orders_dataset.csv\")\n",
        "items     = pd.read_csv(\"/content/olist_data/olist_order_items_dataset.csv\")\n",
        "customers = pd.read_csv(\"/content/olist_data/olist_customers_dataset.csv\")\n",
        "products  = pd.read_csv(\"/content/olist_data/olist_products_dataset.csv\")\n",
        "xlate     = pd.read_csv(\"/content/olist_data/product_category_name_translation.csv\")\n",
        "\n",
        "# -------------------------\n",
        "# Delivery performance\n",
        "# -------------------------\n",
        "# Calculate delivery speed and whether orders arrived late\n",
        "orders[\"purchase_date\"]  = pd.to_datetime(orders[\"order_purchase_timestamp\"], errors=\"coerce\")\n",
        "orders[\"delivered_date\"] = pd.to_datetime(orders[\"order_delivered_customer_date\"], errors=\"coerce\")\n",
        "orders[\"estimated_date\"] = pd.to_datetime(orders[\"order_estimated_delivery_date\"], errors=\"coerce\")\n",
        "\n",
        "orders = orders[orders[\"delivered_date\"].notna()].copy()  # focus only on delivered orders\n",
        "\n",
        "orders[\"delivery_days\"] = (orders[\"delivered_date\"] - orders[\"purchase_date\"]).dt.days\n",
        "orders[\"late_flag\"]     = (orders[\"delivered_date\"] > orders[\"estimated_date\"]).astype(int)\n",
        "orders[\"order_month\"]   = orders[\"purchase_date\"].dt.to_period(\"M\").astype(str)\n",
        "\n",
        "# -------------------------\n",
        "# Revenue per order (GMV)\n",
        "# -------------------------\n",
        "# Gross Merchandise Value = item price + shipping\n",
        "items[\"gmv\"] = items[\"price\"] + items[\"freight_value\"]\n",
        "order_gmv = items.groupby(\"order_id\", as_index=False)[\"gmv\"].sum()\n",
        "\n",
        "# Combine delivery + GMV into a clean order-level dataset\n",
        "orders_clean = (\n",
        "    orders[[\"order_id\",\"customer_id\",\"purchase_date\",\"delivered_date\",\"estimated_date\",\n",
        "            \"delivery_days\",\"late_flag\",\"order_month\"]]\n",
        "    .merge(order_gmv, on=\"order_id\", how=\"left\")\n",
        ")\n",
        "orders_clean.to_csv(\"/content/olist_orders_clean.csv\", index=False)\n",
        "\n",
        "# -------------------------\n",
        "# Customer retention cohorts\n",
        "# -------------------------\n",
        "# Measure repeat behavior: how long customers stay active after signup\n",
        "orders[\"cohort_month\"]  = orders.groupby(\"customer_id\")[\"purchase_date\"].transform(\"min\").dt.to_period(\"M\")\n",
        "orders[\"order_month_p\"] = orders[\"purchase_date\"].dt.to_period(\"M\")\n",
        "orders[\"period_index\"]  = (orders[\"order_month_p\"] - orders[\"cohort_month\"]).apply(lambda x: x.n)\n",
        "\n",
        "cohort_data = (\n",
        "    orders.groupby([\"cohort_month\",\"period_index\"])[\"customer_id\"]\n",
        "          .nunique()\n",
        "          .reset_index(name=\"active_customers\")\n",
        ")\n",
        "cohort_sizes = (\n",
        "    cohort_data[cohort_data[\"period_index\"] == 0][[\"cohort_month\",\"active_customers\"]]\n",
        "    .rename(columns={\"active_customers\":\"cohort_size\"})\n",
        ")\n",
        "cohort_data = cohort_data.merge(cohort_sizes, on=\"cohort_month\", how=\"left\")\n",
        "cohort_data[\"retention_rate\"] = cohort_data[\"active_customers\"] / cohort_data[\"cohort_size\"]\n",
        "cohort_data[\"cohort_month\"]   = cohort_data[\"cohort_month\"].astype(str)\n",
        "\n",
        "cohort_data.to_csv(\"/content/customer_cohorts.csv\", index=False)\n",
        "\n",
        "# -------------------------\n",
        "# Regional delivery performance\n",
        "# -------------------------\n",
        "# Aggregate late % by state to identify geographic pain points\n",
        "geo = orders.merge(customers[[\"customer_id\",\"customer_state\"]], on=\"customer_id\", how=\"left\")\n",
        "geo_summary = (\n",
        "    geo.groupby(\"customer_state\", as_index=False)\n",
        "       .agg(total_orders=(\"order_id\",\"count\"),\n",
        "            late_orders =(\"late_flag\",\"sum\"))\n",
        ")\n",
        "geo_summary[\"pct_late\"] = geo_summary[\"late_orders\"] / geo_summary[\"total_orders\"]\n",
        "\n",
        "geo_summary.to_csv(\"/content/geo_deliveries.csv\", index=False)\n",
        "\n",
        "# -------------------------\n",
        "# Sales mix by product and seller\n",
        "# -------------------------\n",
        "# Translate categories into English for easier analysis\n",
        "products = products.merge(xlate, on=\"product_category_name\", how=\"left\")\n",
        "\n",
        "# GMV by category\n",
        "items_prod = items.merge(products[[\"product_id\",\"product_category_name_english\"]],\n",
        "                         on=\"product_id\", how=\"left\")\n",
        "\n",
        "category_gmv = (\n",
        "    items_prod.groupby(\"product_category_name_english\", as_index=False)[\"gmv\"]\n",
        "              .sum()\n",
        "              .sort_values(\"gmv\", ascending=False)\n",
        ")\n",
        "category_gmv.to_csv(\"/content/category_gmv.csv\", index=False)\n",
        "\n",
        "# GMV by seller\n",
        "seller_gmv = (\n",
        "    items.groupby(\"seller_id\", as_index=False)[\"gmv\"]\n",
        "         .sum()\n",
        "         .sort_values(\"gmv\", ascending=False)\n",
        ")\n",
        "seller_gmv.to_csv(\"/content/seller_gmv.csv\", index=False)\n",
        "\n",
        "print(\n",
        "    \"Files created for Tableau:\",\n",
        "    \"\\n- olist_orders_clean.csv  (delivery performance + GMV per order)\",\n",
        "    \"\\n- customer_cohorts.csv    (customer retention over time)\",\n",
        "    \"\\n- geo_deliveries.csv      (delivery delays by state)\",\n",
        "    \"\\n- category_gmv.csv        (top product categories by sales)\",\n",
        "    \"\\n- seller_gmv.csv          (GMV concentration by seller)\"\n",
        ")\n"
      ]
    },
    {
      "cell_type": "code",
      "source": [],
      "metadata": {
        "id": "0DhKaVDfvZrc"
      },
      "execution_count": 6,
      "outputs": []
    }
  ]
}